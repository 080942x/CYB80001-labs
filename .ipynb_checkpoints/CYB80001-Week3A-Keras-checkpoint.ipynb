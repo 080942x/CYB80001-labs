{
 "cells": [
  {
   "cell_type": "markdown",
   "metadata": {},
   "source": [
    "# CYB80001 System Security Project\n",
    "Prepared by **Derui (Derek) Wang**\n",
    "\n",
    "---"
   ]
  },
  {
   "cell_type": "markdown",
   "metadata": {},
   "source": [
    "# Session 3A - Deep Feedforward Neural Networks with Keras\n",
    "\n",
    "**The purpose of this session is to demonstrate how to use TensorFlow's implementation of the Keras api to develop machine learning algorithms and deep neural network models. **\n",
    "\n"
   ]
  },
  {
   "cell_type": "markdown",
   "metadata": {},
   "source": [
    "## <span style=\"color:#0b486b\">Classification with Keras</span>"
   ]
  },
  {
   "cell_type": "markdown",
   "metadata": {},
   "source": [
    "Let's repeat the Week 6 practical with Keras and build a simple softmax classification with MNIST dataset.\n",
    "\n",
    "* #### <span style=\"color:#0b486b\">Step 1: Load or download the dataset</span>"
   ]
  },
  {
   "cell_type": "code",
   "execution_count": 1,
   "metadata": {
    "collapsed": true
   },
   "outputs": [
    {
     "name": "stderr",
     "output_type": "stream",
     "text": [
      "C:\\Users\\thewe\\Anaconda3\\lib\\site-packages\\h5py\\__init__.py:36: FutureWarning: Conversion of the second argument of issubdtype from `float` to `np.floating` is deprecated. In future, it will be treated as `np.float64 == np.dtype(float).type`.\n",
      "  from ._conv import register_converters as _register_converters\n"
     ]
    },
    {
     "name": "stdout",
     "output_type": "stream",
     "text": [
      "WARNING:tensorflow:From <ipython-input-1-c72d886d7488>:2: read_data_sets (from tensorflow.contrib.learn.python.learn.datasets.mnist) is deprecated and will be removed in a future version.\n",
      "Instructions for updating:\n",
      "Please use alternatives such as official/mnist/dataset.py from tensorflow/models.\n",
      "WARNING:tensorflow:From C:\\Users\\thewe\\Anaconda3\\lib\\site-packages\\tensorflow\\contrib\\learn\\python\\learn\\datasets\\mnist.py:260: maybe_download (from tensorflow.contrib.learn.python.learn.datasets.base) is deprecated and will be removed in a future version.\n",
      "Instructions for updating:\n",
      "Please write your own downloading logic.\n",
      "WARNING:tensorflow:From C:\\Users\\thewe\\Anaconda3\\lib\\site-packages\\tensorflow\\contrib\\learn\\python\\learn\\datasets\\mnist.py:262: extract_images (from tensorflow.contrib.learn.python.learn.datasets.mnist) is deprecated and will be removed in a future version.\n",
      "Instructions for updating:\n",
      "Please use tf.data to implement this functionality.\n",
      "Extracting datasets/train-images-idx3-ubyte.gz\n",
      "WARNING:tensorflow:From C:\\Users\\thewe\\Anaconda3\\lib\\site-packages\\tensorflow\\contrib\\learn\\python\\learn\\datasets\\mnist.py:267: extract_labels (from tensorflow.contrib.learn.python.learn.datasets.mnist) is deprecated and will be removed in a future version.\n",
      "Instructions for updating:\n",
      "Please use tf.data to implement this functionality.\n",
      "Extracting datasets/train-labels-idx1-ubyte.gz\n",
      "Extracting datasets/t10k-images-idx3-ubyte.gz\n",
      "Extracting datasets/t10k-labels-idx1-ubyte.gz\n",
      "WARNING:tensorflow:From C:\\Users\\thewe\\Anaconda3\\lib\\site-packages\\tensorflow\\contrib\\learn\\python\\learn\\datasets\\mnist.py:290: DataSet.__init__ (from tensorflow.contrib.learn.python.learn.datasets.mnist) is deprecated and will be removed in a future version.\n",
      "Instructions for updating:\n",
      "Please use alternatives such as official/mnist/dataset.py from tensorflow/models.\n"
     ]
    }
   ],
   "source": [
    "from tensorflow.examples.tutorials.mnist import input_data\n",
    "mnist = input_data.read_data_sets(\"datasets/\")"
   ]
  },
  {
   "cell_type": "markdown",
   "metadata": {},
   "source": [
    "* #### <span style=\"color:#0b486b\">Step 2: Build a sequential model</span>\n"
   ]
  },
  {
   "cell_type": "markdown",
   "metadata": {},
   "source": [
    "In Week 6, you saw the following TensorFlow code to construct a graph."
   ]
  },
  {
   "cell_type": "markdown",
   "metadata": {},
   "source": [
    "```\n",
    "import tensorflow as tf\n",
    "tf.reset_default_graph()\n",
    "\n",
    "num_inputs = 28 * 28\n",
    "num_hidden1 = 300\n",
    "num_hidden2 = 100\n",
    "num_outputs = 10\n",
    "learning_rate = 0.01\n",
    "\n",
    "\n",
    "x = tf.placeholder(tf.float32, shape=(None, num_inputs), name=\"x\")\n",
    "y = tf.placeholder(tf.int64, shape=(None), name=\"y\")\n",
    "\n",
    "with tf.name_scope(\"dnn\"):\n",
    "    hidden1 = tf.layers.dense(x, num_hidden1, name=\"hidden1\", activation=tf.nn.relu)\n",
    "    hidden2 = tf.layers.dense(hidden1, num_hidden2, name=\"hidden2\", activation=tf.nn.relu)\n",
    "    logits = tf.layers.dense(hidden2, num_outputs, name=\"outputs\")\n",
    "    \n",
    "with tf.name_scope(\"loss\"):\n",
    "    xentropy = tf.nn.sparse_softmax_cross_entropy_with_logits(labels=y, logits=logits)\n",
    "    loss = tf.reduce_mean(xentropy, name=\"loss\")\n",
    "    \n",
    "with tf.name_scope(\"train\"):\n",
    "    optimizer = tf.train.GradientDescentOptimizer(learning_rate)\n",
    "    grads = optimizer.compute_gradients(loss)    \n",
    "    training_op = optimizer.apply_gradients(grads)    \n",
    "    \n",
    "with tf.name_scope(\"eval\"):\n",
    "    correct = tf.nn.in_top_k(logits, y, 1)\n",
    "    accuracy = tf.reduce_mean(tf.cast(correct, tf.float32))   \n",
    "    \n",
    "init = tf.global_variables_initializer()\n",
    "```"
   ]
  },
  {
   "cell_type": "markdown",
   "metadata": {},
   "source": [
    "Below shows the Keras code to define such a model."
   ]
  },
  {
   "cell_type": "code",
   "execution_count": 2,
   "metadata": {},
   "outputs": [],
   "source": [
    "import tensorflow as tf\n",
    "from tensorflow import keras\n",
    "\n",
    "n_inputs = 28 * 28\n",
    "n_hidden1 = 300\n",
    "n_hidden2 = 100\n",
    "n_outputs = 10\n",
    "learning_rate = 0.01\n",
    "\n",
    "model = keras.Sequential()\n",
    "\n",
    "# Adds a densely-connected layer with n_hidden1 units to the model:\n",
    "model.add(keras.layers.Dense(n_hidden1, activation='relu'))\n",
    "\n",
    "# Add another densely-connected layer with n_hidden2 units :\n",
    "model.add(keras.layers.Dense(n_hidden2, activation='relu'))\n",
    "\n",
    "# Add a softmax layer with n_outputs output units:\n",
    "model.add(keras.layers.Dense(n_outputs, activation='softmax'))\n",
    "\n",
    "\n",
    "# Configure the learning process, including specifying the loss the evaluation metrics\n",
    "model.compile(optimizer=tf.train.GradientDescentOptimizer(learning_rate),\n",
    "              loss='sparse_categorical_crossentropy',\n",
    "              metrics=['sparse_categorical_accuracy'])"
   ]
  },
  {
   "cell_type": "markdown",
   "metadata": {},
   "source": [
    "* #### <span style=\"color:#0b486b\">Step 3: Train and test the model</span>\n"
   ]
  },
  {
   "cell_type": "markdown",
   "metadata": {},
   "source": [
    "Similarly the following code for training can be replaced.\n",
    "``` \n",
    "num_epochs = 20\n",
    "batch_size = 50\n",
    "\n",
    "with tf.Session() as sess:\n",
    "    init.run()\n",
    "    print(\"Epoch\\tTrain accuracy\\tTest accuracy\")\n",
    "    for epoch in range(num_epochs):\n",
    "        for iteration in range(mnist.train.num_examples // batch_size):\n",
    "            x_batch, y_batch = mnist.train.next_batch(batch_size)\n",
    "            sess.run(training_op, feed_dict={x: x_batch, y: y_batch})\n",
    "            \n",
    "        acc_train = sess.run(accuracy,\n",
    "                             feed_dict={x: x_batch, y: y_batch})\n",
    "        \n",
    "        acc_test = sess.run(accuracy,\n",
    "                             feed_dict={x: mnist.test.images, y: mnist.test.labels})\n",
    "        \n",
    "        print(\"{}\\t{}\\t{}\".format(epoch, acc_train))   \n",
    "``` "
   ]
  },
  {
   "cell_type": "markdown",
   "metadata": {},
   "source": [
    "The training is simple with Keras."
   ]
  },
  {
   "cell_type": "code",
   "execution_count": 5,
   "metadata": {},
   "outputs": [
    {
     "name": "stdout",
     "output_type": "stream",
     "text": [
      "Train on 55000 samples, validate on 10000 samples\n",
      "Epoch 1/20\n",
      "55000/55000 [==============================] - 7s 129us/step - loss: 0.7463 - sparse_categorical_accuracy: 0.8106 - val_loss: 0.3618 - val_sparse_categorical_accuracy: 0.9019\n",
      "Epoch 2/20\n",
      "55000/55000 [==============================] - 7s 123us/step - loss: 0.3377 - sparse_categorical_accuracy: 0.9042 - val_loss: 0.2873 - val_sparse_categorical_accuracy: 0.9194\n",
      "Epoch 3/20\n",
      "55000/55000 [==============================] - 7s 119us/step - loss: 0.2819 - sparse_categorical_accuracy: 0.9196 - val_loss: 0.2508 - val_sparse_categorical_accuracy: 0.9305\n",
      "Epoch 4/20\n",
      "55000/55000 [==============================] - 6s 117us/step - loss: 0.2466 - sparse_categorical_accuracy: 0.9287 - val_loss: 0.2276 - val_sparse_categorical_accuracy: 0.9364\n",
      "Epoch 5/20\n",
      "55000/55000 [==============================] - 6s 117us/step - loss: 0.2197 - sparse_categorical_accuracy: 0.9383 - val_loss: 0.2090 - val_sparse_categorical_accuracy: 0.9399\n",
      "Epoch 6/20\n",
      "55000/55000 [==============================] - 6s 114us/step - loss: 0.1986 - sparse_categorical_accuracy: 0.9435 - val_loss: 0.1904 - val_sparse_categorical_accuracy: 0.9454\n",
      "Epoch 7/20\n",
      "55000/55000 [==============================] - 6s 117us/step - loss: 0.1810 - sparse_categorical_accuracy: 0.9483 - val_loss: 0.1726 - val_sparse_categorical_accuracy: 0.9497\n",
      "Epoch 8/20\n",
      "55000/55000 [==============================] - 7s 121us/step - loss: 0.1660 - sparse_categorical_accuracy: 0.9519 - val_loss: 0.1607 - val_sparse_categorical_accuracy: 0.9532\n",
      "Epoch 9/20\n",
      "55000/55000 [==============================] - 6s 118us/step - loss: 0.1535 - sparse_categorical_accuracy: 0.9564 - val_loss: 0.1484 - val_sparse_categorical_accuracy: 0.9561\n",
      "Epoch 10/20\n",
      "55000/55000 [==============================] - 6s 114us/step - loss: 0.1425 - sparse_categorical_accuracy: 0.9591 - val_loss: 0.1405 - val_sparse_categorical_accuracy: 0.9585\n",
      "Epoch 11/20\n",
      "55000/55000 [==============================] - 7s 125us/step - loss: 0.1326 - sparse_categorical_accuracy: 0.9625 - val_loss: 0.1352 - val_sparse_categorical_accuracy: 0.9604\n",
      "Epoch 12/20\n",
      "55000/55000 [==============================] - 7s 122us/step - loss: 0.1245 - sparse_categorical_accuracy: 0.9641 - val_loss: 0.1284 - val_sparse_categorical_accuracy: 0.9626\n",
      "Epoch 13/20\n",
      "55000/55000 [==============================] - 7s 123us/step - loss: 0.1168 - sparse_categorical_accuracy: 0.9671 - val_loss: 0.1223 - val_sparse_categorical_accuracy: 0.9646\n",
      "Epoch 14/20\n",
      "55000/55000 [==============================] - 7s 121us/step - loss: 0.1101 - sparse_categorical_accuracy: 0.9685 - val_loss: 0.1197 - val_sparse_categorical_accuracy: 0.9642\n",
      "Epoch 15/20\n",
      "55000/55000 [==============================] - 7s 124us/step - loss: 0.1038 - sparse_categorical_accuracy: 0.9707 - val_loss: 0.1130 - val_sparse_categorical_accuracy: 0.9663\n",
      "Epoch 16/20\n",
      "55000/55000 [==============================] - 7s 126us/step - loss: 0.0982 - sparse_categorical_accuracy: 0.9726 - val_loss: 0.1103 - val_sparse_categorical_accuracy: 0.9673\n",
      "Epoch 17/20\n",
      "55000/55000 [==============================] - 7s 123us/step - loss: 0.0930 - sparse_categorical_accuracy: 0.9743 - val_loss: 0.1056 - val_sparse_categorical_accuracy: 0.9681\n",
      "Epoch 18/20\n",
      "55000/55000 [==============================] - 6s 118us/step - loss: 0.0885 - sparse_categorical_accuracy: 0.9753 - val_loss: 0.1025 - val_sparse_categorical_accuracy: 0.9693\n",
      "Epoch 19/20\n",
      "55000/55000 [==============================] - 6s 117us/step - loss: 0.0841 - sparse_categorical_accuracy: 0.9766 - val_loss: 0.0998 - val_sparse_categorical_accuracy: 0.9696\n",
      "Epoch 20/20\n",
      "55000/55000 [==============================] - 7s 127us/step - loss: 0.0800 - sparse_categorical_accuracy: 0.9780 - val_loss: 0.0968 - val_sparse_categorical_accuracy: 0.9718\n"
     ]
    },
    {
     "data": {
      "text/plain": [
       "<tensorflow.python.keras.callbacks.History at 0x256674a60b8>"
      ]
     },
     "execution_count": 5,
     "metadata": {},
     "output_type": "execute_result"
    }
   ],
   "source": [
    "num_epochs = 20\n",
    "batch_size = 50\n",
    "\n",
    "model.fit(mnist.train.images, \n",
    "          mnist.train.labels, \n",
    "          epochs=num_epochs, \n",
    "          batch_size=batch_size, \n",
    "          validation_data=( mnist.test.images, mnist.test.labels))"
   ]
  },
  {
   "cell_type": "markdown",
   "metadata": {},
   "source": [
    "An added benefit of using Keras is that the `model` Python variable preserves all the information regarding the model, including the current weights. So we can easily further improve the model with additional training epochs."
   ]
  },
  {
   "cell_type": "code",
   "execution_count": 7,
   "metadata": {},
   "outputs": [
    {
     "name": "stdout",
     "output_type": "stream",
     "text": [
      "Train on 55000 samples, validate on 10000 samples\n",
      "Epoch 1/5\n",
      "55000/55000 [==============================] - 8s 151us/step - loss: 0.0535 - sparse_categorical_accuracy: 0.9853 - val_loss: 0.0791 - val_sparse_categorical_accuracy: 0.9764\n",
      "Epoch 2/5\n",
      "55000/55000 [==============================] - 9s 164us/step - loss: 0.0501 - sparse_categorical_accuracy: 0.9867 - val_loss: 0.0798 - val_sparse_categorical_accuracy: 0.9760\n",
      "Epoch 3/5\n",
      "55000/55000 [==============================] - 9s 166us/step - loss: 0.0468 - sparse_categorical_accuracy: 0.9873 - val_loss: 0.0848 - val_sparse_categorical_accuracy: 0.9742\n",
      "Epoch 4/5\n",
      "55000/55000 [==============================] - 9s 165us/step - loss: 0.0442 - sparse_categorical_accuracy: 0.9885 - val_loss: 0.0774 - val_sparse_categorical_accuracy: 0.9770\n",
      "Epoch 5/5\n",
      "55000/55000 [==============================] - 9s 163us/step - loss: 0.0414 - sparse_categorical_accuracy: 0.9892 - val_loss: 0.0768 - val_sparse_categorical_accuracy: 0.9767\n"
     ]
    }
   ],
   "source": [
    "history = model.fit(mnist.train.images, \n",
    "                    mnist.train.labels,\n",
    "                    epochs=5,\n",
    "                    batch_size=batch_size, \n",
    "                    validation_data=( mnist.test.images, mnist.test.labels))"
   ]
  },
  {
   "cell_type": "markdown",
   "metadata": {},
   "source": [
    "### Excercises\n"
   ]
  },
  {
   "cell_type": "markdown",
   "metadata": {},
   "source": [
    "- Change five different value for the number of hidden nodes in each layer and report the best numbers among your chosen number.\n",
    "- Increase the number of hidden layers to **three** and set five values for the number of hidden nodes then report the best value and its performance.\n",
    "- Try to change the optimizer to train the model to [Adam](https://www.tensorflow.org/api_docs/python/tf/train/AdamOptimizer) and [RMSProp](https://www.tensorflow.org/api_docs/python/tf/train/RMSPropOptimizer)"
   ]
  },
  {
   "cell_type": "markdown",
   "metadata": {},
   "source": [
    "---\n",
    "### <div  style=\"text-align:center\">**THE END**</div>"
   ]
  }
 ],
 "metadata": {
  "anaconda-cloud": {},
  "kernelspec": {
   "display_name": "Python 3",
   "language": "python",
   "name": "python3"
  },
  "language_info": {
   "codemirror_mode": {
    "name": "ipython",
    "version": 3
   },
   "file_extension": ".py",
   "mimetype": "text/x-python",
   "name": "python",
   "nbconvert_exporter": "python",
   "pygments_lexer": "ipython3",
   "version": "3.6.7"
  }
 },
 "nbformat": 4,
 "nbformat_minor": 2
}
